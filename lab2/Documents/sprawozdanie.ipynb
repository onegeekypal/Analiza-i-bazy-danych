{
 "cells": [
  {
   "cell_type": "markdown",
   "metadata": {
    "collapsed": true,
    "pycharm": {
     "name": "#%% md\n"
    }
   },
   "source": [
    "# Dawid Syty 302923 <br />\n",
    "\n"
   ]
  },
  {
   "cell_type": "markdown",
   "source": [
    "## Utworzono 4 foldery zgodnie z opisem w documentation.md\n",
    "1. Original\n",
    "2. Analysis Data\n",
    "3. Command Files\n",
    "4. Documents"
   ],
   "metadata": {
    "collapsed": false,
    "pycharm": {
     "name": "#%% md\n"
    }
   }
  },
  {
   "cell_type": "markdown",
   "source": [
    "## W pliku load and operate załadowano dane, poddano je operacjom czyszczącym niepełne odpowiedzi, utworzono nowe dataFrames oraz zapisano je do odpowiadających plików w Analisis Data:"
   ],
   "metadata": {
    "collapsed": false,
    "pycharm": {
     "name": "#%% md\n"
    }
   }
  },
  {
   "cell_type": "markdown",
   "source": [
    "DataFrame z zmienionymi nazwami kolumn:"
   ],
   "metadata": {
    "collapsed": false,
    "pycharm": {
     "name": "#%% md\n"
    }
   }
  },
  {
   "cell_type": "code",
   "execution_count": 12,
   "outputs": [
    {
     "name": "stdout",
     "output_type": "stream",
     "text": [
      "<class 'pandas.core.frame.DataFrame'>\n",
      "RangeIndex: 978 entries, 0 to 977\n",
      "Data columns (total 11 columns):\n",
      " #   Column                             Non-Null Count  Dtype \n",
      "---  ------                             --------------  ----- \n",
      " 0   Eathquake fear                     978 non-null    object\n",
      " 1   Worried about Big One?             978 non-null    object\n",
      " 2   Will it happen in our lifetime?    978 non-null    object\n",
      " 3   Experienced earthquake?            978 non-null    object\n",
      " 4   earthquake precautions             978 non-null    object\n",
      " 5   Heard of San Andreas Fault Line?   978 non-null    object\n",
      " 6   Heard of Yellowstone supervolcao?  978 non-null    object\n",
      " 7   Age                                978 non-null    object\n",
      " 8   gender                             978 non-null    object\n",
      " 9   income                             978 non-null    object\n",
      " 10  region                             978 non-null    object\n",
      "dtypes: object(11)\n",
      "memory usage: 84.2+ KB\n"
     ]
    },
    {
     "data": {
      "text/plain": "            Eathquake fear Worried about Big One?  \\\ncount                  978                    978   \nunique                   5                      5   \ntop     Not at all worried     Not at all worried   \nfreq                   351                    329   \n\n       Will it happen in our lifetime?      Experienced earthquake?  \\\ncount                              978                          978   \nunique                               2                            3   \ntop                                 No  Yes, one or more minor ones   \nfreq                               560                          471   \n\n       earthquake precautions Heard of San Andreas Fault Line?  \\\ncount                     978                              978   \nunique                      2                                5   \ntop                        No                Somewhat familiar   \nfreq                      766                              392   \n\n       Heard of Yellowstone supervolcao?      Age  gender              income  \\\ncount                                978      978     978                 978   \nunique                                 5        4       2                  11   \ntop                    Somewhat familiar  45 - 59  Female  $50,000 to $74,999   \nfreq                                 273      270     513                 174   \n\n         region  \ncount       978  \nunique        9  \ntop     Pacific  \nfreq        206  ",
      "text/html": "<div>\n<style scoped>\n    .dataframe tbody tr th:only-of-type {\n        vertical-align: middle;\n    }\n\n    .dataframe tbody tr th {\n        vertical-align: top;\n    }\n\n    .dataframe thead th {\n        text-align: right;\n    }\n</style>\n<table border=\"1\" class=\"dataframe\">\n  <thead>\n    <tr style=\"text-align: right;\">\n      <th></th>\n      <th>Eathquake fear</th>\n      <th>Worried about Big One?</th>\n      <th>Will it happen in our lifetime?</th>\n      <th>Experienced earthquake?</th>\n      <th>earthquake precautions</th>\n      <th>Heard of San Andreas Fault Line?</th>\n      <th>Heard of Yellowstone supervolcao?</th>\n      <th>Age</th>\n      <th>gender</th>\n      <th>income</th>\n      <th>region</th>\n    </tr>\n  </thead>\n  <tbody>\n    <tr>\n      <th>count</th>\n      <td>978</td>\n      <td>978</td>\n      <td>978</td>\n      <td>978</td>\n      <td>978</td>\n      <td>978</td>\n      <td>978</td>\n      <td>978</td>\n      <td>978</td>\n      <td>978</td>\n      <td>978</td>\n    </tr>\n    <tr>\n      <th>unique</th>\n      <td>5</td>\n      <td>5</td>\n      <td>2</td>\n      <td>3</td>\n      <td>2</td>\n      <td>5</td>\n      <td>5</td>\n      <td>4</td>\n      <td>2</td>\n      <td>11</td>\n      <td>9</td>\n    </tr>\n    <tr>\n      <th>top</th>\n      <td>Not at all worried</td>\n      <td>Not at all worried</td>\n      <td>No</td>\n      <td>Yes, one or more minor ones</td>\n      <td>No</td>\n      <td>Somewhat familiar</td>\n      <td>Somewhat familiar</td>\n      <td>45 - 59</td>\n      <td>Female</td>\n      <td>$50,000 to $74,999</td>\n      <td>Pacific</td>\n    </tr>\n    <tr>\n      <th>freq</th>\n      <td>351</td>\n      <td>329</td>\n      <td>560</td>\n      <td>471</td>\n      <td>766</td>\n      <td>392</td>\n      <td>273</td>\n      <td>270</td>\n      <td>513</td>\n      <td>174</td>\n      <td>206</td>\n    </tr>\n  </tbody>\n</table>\n</div>"
     },
     "execution_count": 12,
     "metadata": {},
     "output_type": "execute_result"
    }
   ],
   "source": [
    "import pandas\n",
    "\n",
    "data = pandas.read_csv('/Users/dawidsyty/DataspellProjects/Analiza-i-bazy-danych/lab2/Analysis Data/question_renamed.csv')\n",
    "data.info()\n",
    "data.head()\n",
    "data.describe()"
   ],
   "metadata": {
    "collapsed": false,
    "pycharm": {
     "name": "#%%\n"
    }
   }
  },
  {
   "cell_type": "markdown",
   "source": [
    "DataFrame tylko z wiekiem, płcią oraz odpowiedzią na jedno pytanie:"
   ],
   "metadata": {
    "collapsed": false,
    "pycharm": {
     "name": "#%% md\n"
    }
   }
  },
  {
   "cell_type": "code",
   "execution_count": 13,
   "outputs": [
    {
     "name": "stdout",
     "output_type": "stream",
     "text": [
      "<class 'pandas.core.frame.DataFrame'>\n",
      "RangeIndex: 978 entries, 0 to 977\n",
      "Data columns (total 3 columns):\n",
      " #   Column    Non-Null Count  Dtype \n",
      "---  ------    --------------  ----- \n",
      " 0   age       978 non-null    object\n",
      " 1   gender    978 non-null    object\n",
      " 2   Worried?  978 non-null    object\n",
      "dtypes: object(3)\n",
      "memory usage: 23.0+ KB\n"
     ]
    },
    {
     "data": {
      "text/plain": "            age  gender Worried?\ncount       978     978      978\nunique        4       2        2\ntop     45 - 59  Female       No\nfreq        270     513      560",
      "text/html": "<div>\n<style scoped>\n    .dataframe tbody tr th:only-of-type {\n        vertical-align: middle;\n    }\n\n    .dataframe tbody tr th {\n        vertical-align: top;\n    }\n\n    .dataframe thead th {\n        text-align: right;\n    }\n</style>\n<table border=\"1\" class=\"dataframe\">\n  <thead>\n    <tr style=\"text-align: right;\">\n      <th></th>\n      <th>age</th>\n      <th>gender</th>\n      <th>Worried?</th>\n    </tr>\n  </thead>\n  <tbody>\n    <tr>\n      <th>count</th>\n      <td>978</td>\n      <td>978</td>\n      <td>978</td>\n    </tr>\n    <tr>\n      <th>unique</th>\n      <td>4</td>\n      <td>2</td>\n      <td>2</td>\n    </tr>\n    <tr>\n      <th>top</th>\n      <td>45 - 59</td>\n      <td>Female</td>\n      <td>No</td>\n    </tr>\n    <tr>\n      <th>freq</th>\n      <td>270</td>\n      <td>513</td>\n      <td>560</td>\n    </tr>\n  </tbody>\n</table>\n</div>"
     },
     "execution_count": 13,
     "metadata": {},
     "output_type": "execute_result"
    }
   ],
   "source": [
    "data = pandas.read_csv('/Users/dawidsyty/DataspellProjects/Analiza-i-bazy-danych/lab2/Analysis Data/age_gender_worried_table.csv')\n",
    "data.info()\n",
    "data.head()\n",
    "data.describe()"
   ],
   "metadata": {
    "collapsed": false,
    "pycharm": {
     "name": "#%%\n"
    }
   }
  },
  {
   "cell_type": "markdown",
   "source": [
    "## W pliku create charts utworzono wykresy z pytaniami i ilością odpowiedzi oraz zapisano je w Analysis Data/charts jako plik jpg  <br />\n",
    "\n",
    "<img src=\"../Analysis Data/charts/Age.jpg\"/> <br />\n",
    "\n",
    "<img src=\"../Analysis Data/charts/Eathquake fear.jpg\"/> <br />\n",
    "\n",
    "\n",
    "<img src=\"../Analysis Data/charts/gender.jpg\"/> <br />\n",
    "\n",
    "\n",
    "<img src=\"../Analysis Data/charts/earthquake precautions.jpg\"/> <br />"
   ],
   "metadata": {
    "collapsed": false,
    "pycharm": {
     "name": "#%% md\n"
    }
   }
  },
  {
   "cell_type": "markdown",
   "source": [
    "## Wnioski <br />\n",
    "\n",
    "Odpowiednia organizacja pracy jest potrzebna aby odpowiedzialnie zarządzać danymi oraz ich żywotnością\n",
    "\n",
    "Struktura TIER zdecydowanie zezwala na odtworzenie operacji na oryginalnym pliku, oraz jest bardzo domyślna w użytkowaniu\n",
    "\n",
    "Znalezienie błędów w postępowaniu z danymi jest łatwiejsze gdy każda operacja na bazie danych jest opisana i łatwo powtarzalna.\n",
    "\n",
    "Korzystanie z zasad TIER zapewnia również że przy wprowadzeniu błędu oryginalne dane nie zostaną zepsute gdyż powinny być trzymane nietknięte w odpowiednim folderze.\n"
   ],
   "metadata": {
    "collapsed": false,
    "pycharm": {
     "name": "#%% md\n"
    }
   }
  }
 ],
 "metadata": {
  "kernelspec": {
   "display_name": "Python 3",
   "language": "python",
   "name": "python3"
  },
  "language_info": {
   "codemirror_mode": {
    "name": "ipython",
    "version": 2
   },
   "file_extension": ".py",
   "mimetype": "text/x-python",
   "name": "python",
   "nbconvert_exporter": "python",
   "pygments_lexer": "ipython2",
   "version": "2.7.6"
  }
 },
 "nbformat": 4,
 "nbformat_minor": 0
}