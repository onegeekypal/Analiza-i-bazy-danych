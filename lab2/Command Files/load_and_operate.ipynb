{
 "cells": [
  {
   "cell_type": "markdown",
   "source": [
    "**imports**"
   ],
   "metadata": {
    "collapsed": false,
    "pycharm": {
     "name": "#%% md\n"
    }
   }
  },
  {
   "cell_type": "code",
   "execution_count": 82,
   "outputs": [],
   "source": [
    "import pandas"
   ],
   "metadata": {
    "collapsed": false,
    "pycharm": {
     "name": "#%%\n"
    }
   }
  },
  {
   "cell_type": "markdown",
   "source": [
    "**Loading Data**"
   ],
   "metadata": {
    "collapsed": false,
    "pycharm": {
     "name": "#%% md\n"
    }
   }
  },
  {
   "cell_type": "code",
   "execution_count": 83,
   "outputs": [],
   "source": [
    "data = pandas.read_csv('/Users/dawidsyty/DataspellProjects/Analiza-i-bazy-danych/lab2/Original/earthquake_data.csv')"
   ],
   "metadata": {
    "collapsed": false,
    "pycharm": {
     "name": "#%%\n"
    }
   }
  },
  {
   "cell_type": "markdown",
   "source": [
    "**Cleaning the data**"
   ],
   "metadata": {
    "collapsed": false
   }
  },
  {
   "cell_type": "code",
   "execution_count": 84,
   "outputs": [],
   "source": [
    "data = data.dropna()"
   ],
   "metadata": {
    "collapsed": false,
    "pycharm": {
     "name": "#%%\n"
    }
   }
  },
  {
   "cell_type": "markdown",
   "source": [
    "**Mapping questions**"
   ],
   "metadata": {
    "collapsed": false
   }
  },
  {
   "cell_type": "code",
   "execution_count": 85,
   "outputs": [],
   "source": [
    "question_map = {\n",
    "    \"In general, how worried are you about earthquakes?\":\"Eathquake fear\",\n",
    "    \"How worried are you about the Big One, a massive, catastrophic earthquake?\" : 'Worried about Big One?',\n",
    "    \"Do you think the \\\"Big One\\\" will occur in your lifetime?\":'Will it happen in our lifetime?',\n",
    "    \"Have you ever experienced an earthquake?\":'Experienced earthquake?',\n",
    "    'Have you or anyone in your household taken any precautions for an earthquake (packed an earthquake survival kit, prepared an evacuation plan, etc.)?':'earthquake precautions',\n",
    "    'How familiar are you with the San Andreas Fault line?':'Heard of San Andreas Fault Line?',\n",
    "    'How familiar are you with the Yellowstone Supervolcano?':'Heard of Yellowstone supervolcao?',\n",
    "    \"What is your gender?\":'gender',\n",
    "    'How much total combined money did all members of your HOUSEHOLD earn last year?': 'income',\n",
    "    \"US Region\": \"region\"\n",
    "}"
   ],
   "metadata": {
    "collapsed": false,
    "pycharm": {
     "name": "#%%\n"
    }
   }
  },
  {
   "cell_type": "markdown",
   "source": [
    "**Rename question columns**"
   ],
   "metadata": {
    "collapsed": false,
    "pycharm": {
     "name": "#%% md\n"
    }
   }
  },
  {
   "cell_type": "code",
   "execution_count": 86,
   "outputs": [],
   "source": [
    "data = data.rename(columns=question_map)"
   ],
   "metadata": {
    "collapsed": false,
    "pycharm": {
     "name": "#%%\n"
    }
   }
  },
  {
   "cell_type": "markdown",
   "source": [
    "**Create new table with age, sex and one question**"
   ],
   "metadata": {
    "collapsed": false,
    "pycharm": {
     "name": "#%% md\n"
    }
   }
  },
  {
   "cell_type": "code",
   "execution_count": 87,
   "outputs": [],
   "source": [
    "newTable = pandas.DataFrame(\n",
    "    {\n",
    "        'age' : data.Age,\n",
    "        'gender' : data.gender,\n",
    "        'Worried?' : data.to_dict()[question_map['Do you think the \\\"Big One\\\" will occur in your lifetime?']]\n",
    "    }\n",
    ")\n"
   ],
   "metadata": {
    "collapsed": false,
    "pycharm": {
     "name": "#%%\n"
    }
   }
  },
  {
   "cell_type": "markdown",
   "source": [
    "**Saving Tables to csv files**"
   ],
   "metadata": {
    "collapsed": false,
    "pycharm": {
     "name": "#%% md\n"
    }
   }
  },
  {
   "cell_type": "code",
   "execution_count": 88,
   "outputs": [],
   "source": [
    "\n",
    "data.to_csv(path_or_buf='/Users/dawidsyty/DataspellProjects/Analiza-i-bazy-danych/lab2/Analysis Data/question_renamed.csv',index=False)\n",
    "newTable.to_csv(path_or_buf='/Users/dawidsyty/DataspellProjects/Analiza-i-bazy-danych/lab2/Analysis Data/age_gender_worried_table.csv',index=False)"
   ],
   "metadata": {
    "collapsed": false,
    "pycharm": {
     "name": "#%%\n"
    }
   }
  }
 ],
 "metadata": {
  "kernelspec": {
   "display_name": "Python 3",
   "language": "python",
   "name": "python3"
  },
  "language_info": {
   "codemirror_mode": {
    "name": "ipython",
    "version": 2
   },
   "file_extension": ".py",
   "mimetype": "text/x-python",
   "name": "python",
   "nbconvert_exporter": "python",
   "pygments_lexer": "ipython2",
   "version": "2.7.6"
  }
 },
 "nbformat": 4,
 "nbformat_minor": 0
}