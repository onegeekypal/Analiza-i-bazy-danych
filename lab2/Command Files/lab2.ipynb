{
 "cells": [
  {
   "cell_type": "markdown",
   "source": [
    "**imports**"
   ],
   "metadata": {
    "collapsed": false,
    "pycharm": {
     "name": "#%% md\n"
    }
   }
  },
  {
   "cell_type": "code",
   "execution_count": 74,
   "outputs": [],
   "source": [
    "import pandas"
   ],
   "metadata": {
    "collapsed": false,
    "pycharm": {
     "name": "#%%\n"
    }
   }
  },
  {
   "cell_type": "markdown",
   "source": [
    "**Loading Data**"
   ],
   "metadata": {
    "collapsed": false,
    "pycharm": {
     "name": "#%% md\n"
    }
   }
  },
  {
   "cell_type": "code",
   "execution_count": 75,
   "outputs": [],
   "source": [
    "data = pandas.read_csv('lab2/Original/earthquake_data.csv')"
   ],
   "metadata": {
    "collapsed": false,
    "pycharm": {
     "name": "#%%\n"
    }
   }
  },
  {
   "cell_type": "markdown",
   "source": [
    "**Mapping questions**"
   ],
   "metadata": {
    "collapsed": false,
    "pycharm": {
     "name": "#%% md\n"
    }
   }
  },
  {
   "cell_type": "code",
   "execution_count": 76,
   "outputs": [],
   "source": [
    "question_map = {\"In general, how worried are you about earthquakes?\":\"worried_earthquake?\",\n",
    "    \"How worried are you about the Big One, a massive,catastrophic earthquake?\" : 'worried_earthquake_big',\n",
    "    \"Do you think the \\\"Big One\\\" will occur in your lifetime?\":'thinks_will_happen_in_his_lifetime',\n",
    "    \"Have you ever experienced an earthquake?\":'earthquake_experienced?',\n",
    "    'Have you or anyone in your household taken any precautions for an earthquake (packed an earthquake survival kit, prepared an evacuation    plan, etc.)?':'earthquake_precautions?',\n",
    "    'How familiar are you with the San Andreas Fault line?':'question6',\n",
    "    'How familiar are you with the Yellowstone Supervolcano?':'question7',\n",
    "    \"What is your gender?\":'gender','How much total combined money did all members of your HOUSEHOLD earn last year?': 'money',\n",
    "    \"US Region\": \"region\"}"
   ],
   "metadata": {
    "collapsed": false,
    "pycharm": {
     "name": "#%%\n"
    }
   }
  },
  {
   "cell_type": "markdown",
   "source": [
    "**Rename question columns**"
   ],
   "metadata": {
    "collapsed": false,
    "pycharm": {
     "name": "#%% md\n"
    }
   }
  },
  {
   "cell_type": "code",
   "execution_count": 77,
   "outputs": [
    {
     "data": {
      "text/plain": "            question1  \\\n0  Not at all worried   \n1    Somewhat worried   \n2      Not so worried   \n3      Not so worried   \n4      Not so worried   \n\n  How worried are you about the Big One, a massive, catastrophic earthquake?  \\\n0                                     Not so worried                           \n1                                       Very worried                           \n2                                   Somewhat worried                           \n3                                     Not so worried                           \n4                                     Not so worried                           \n\n  question3                    question4  \\\n0        No  Yes, one or more minor ones   \n1        No  Yes, one or more minor ones   \n2        No  Yes, one or more minor ones   \n3        No  Yes, one or more minor ones   \n4       Yes  Yes, one or more minor ones   \n\n  Have you or anyone in your household taken any precautions for an earthquake (packed an earthquake survival kit, prepared an evacuation plan, etc.)?  \\\n0                                                 No                                                                                                     \n1                                                 No                                                                                                     \n2                                                 No                                                                                                     \n3                                                 No                                                                                                     \n4                                                 No                                                                                                     \n\n             question6            question7      Age gender  \\\n0    Somewhat familiar      Not so familiar  18 - 29   Male   \n1  Not at all familiar  Not at all familiar  18 - 29   Male   \n2        Very familiar    Somewhat familiar  18 - 29   Male   \n3        Very familiar      Not so familiar  18 - 29   Male   \n4    Somewhat familiar   Extremely familiar  18 - 29   Male   \n\n                  money              region  \n0  Prefer not to answer         New England  \n1    $75,000 to $99,999  East North Central  \n2    $10,000 to $24,999             Pacific  \n3    $25,000 to $49,999  West South Central  \n4       $200,000 and up     Middle Atlantic  ",
      "text/html": "<div>\n<style scoped>\n    .dataframe tbody tr th:only-of-type {\n        vertical-align: middle;\n    }\n\n    .dataframe tbody tr th {\n        vertical-align: top;\n    }\n\n    .dataframe thead th {\n        text-align: right;\n    }\n</style>\n<table border=\"1\" class=\"dataframe\">\n  <thead>\n    <tr style=\"text-align: right;\">\n      <th></th>\n      <th>question1</th>\n      <th>How worried are you about the Big One, a massive, catastrophic earthquake?</th>\n      <th>question3</th>\n      <th>question4</th>\n      <th>Have you or anyone in your household taken any precautions for an earthquake (packed an earthquake survival kit, prepared an evacuation plan, etc.)?</th>\n      <th>question6</th>\n      <th>question7</th>\n      <th>Age</th>\n      <th>gender</th>\n      <th>money</th>\n      <th>region</th>\n    </tr>\n  </thead>\n  <tbody>\n    <tr>\n      <th>0</th>\n      <td>Not at all worried</td>\n      <td>Not so worried</td>\n      <td>No</td>\n      <td>Yes, one or more minor ones</td>\n      <td>No</td>\n      <td>Somewhat familiar</td>\n      <td>Not so familiar</td>\n      <td>18 - 29</td>\n      <td>Male</td>\n      <td>Prefer not to answer</td>\n      <td>New England</td>\n    </tr>\n    <tr>\n      <th>1</th>\n      <td>Somewhat worried</td>\n      <td>Very worried</td>\n      <td>No</td>\n      <td>Yes, one or more minor ones</td>\n      <td>No</td>\n      <td>Not at all familiar</td>\n      <td>Not at all familiar</td>\n      <td>18 - 29</td>\n      <td>Male</td>\n      <td>$75,000 to $99,999</td>\n      <td>East North Central</td>\n    </tr>\n    <tr>\n      <th>2</th>\n      <td>Not so worried</td>\n      <td>Somewhat worried</td>\n      <td>No</td>\n      <td>Yes, one or more minor ones</td>\n      <td>No</td>\n      <td>Very familiar</td>\n      <td>Somewhat familiar</td>\n      <td>18 - 29</td>\n      <td>Male</td>\n      <td>$10,000 to $24,999</td>\n      <td>Pacific</td>\n    </tr>\n    <tr>\n      <th>3</th>\n      <td>Not so worried</td>\n      <td>Not so worried</td>\n      <td>No</td>\n      <td>Yes, one or more minor ones</td>\n      <td>No</td>\n      <td>Very familiar</td>\n      <td>Not so familiar</td>\n      <td>18 - 29</td>\n      <td>Male</td>\n      <td>$25,000 to $49,999</td>\n      <td>West South Central</td>\n    </tr>\n    <tr>\n      <th>4</th>\n      <td>Not so worried</td>\n      <td>Not so worried</td>\n      <td>Yes</td>\n      <td>Yes, one or more minor ones</td>\n      <td>No</td>\n      <td>Somewhat familiar</td>\n      <td>Extremely familiar</td>\n      <td>18 - 29</td>\n      <td>Male</td>\n      <td>$200,000 and up</td>\n      <td>Middle Atlantic</td>\n    </tr>\n  </tbody>\n</table>\n</div>"
     },
     "execution_count": 77,
     "metadata": {},
     "output_type": "execute_result"
    }
   ],
   "source": [
    "data = data.rename(columns=question_map)\n",
    "data.head()"
   ],
   "metadata": {
    "collapsed": false,
    "pycharm": {
     "name": "#%%\n"
    }
   }
  },
  {
   "cell_type": "markdown",
   "source": [
    "**Create new table with age, sex and one question**"
   ],
   "metadata": {
    "collapsed": false,
    "pycharm": {
     "name": "#%% md\n"
    }
   }
  },
  {
   "cell_type": "code",
   "execution_count": 78,
   "outputs": [
    {
     "name": "stdout",
     "output_type": "stream",
     "text": [
      "          age  gender Worried?\n",
      "0     18 - 29    Male       No\n",
      "1     18 - 29    Male       No\n",
      "2     18 - 29    Male       No\n",
      "3     18 - 29    Male       No\n",
      "4     18 - 29    Male      Yes\n",
      "...       ...     ...      ...\n",
      "1008       60    Male       No\n",
      "1009       60  Female       No\n",
      "1010  30 - 44  Female       No\n",
      "1011  30 - 44  Female       No\n",
      "1012      NaN     NaN       No\n",
      "\n",
      "[1013 rows x 3 columns]\n"
     ]
    }
   ],
   "source": [
    "newTable = pandas.DataFrame(\n",
    "    {\n",
    "        'age' : data.Age,\n",
    "        'gender' : data.gender,\n",
    "        'Worried?' : data.to_dict()[question_map['Do you think the \\\"Big One\\\" will occur in your lifetime?']]\n",
    "    }\n",
    ")\n",
    "\n",
    "print(newTable)"
   ],
   "metadata": {
    "collapsed": false,
    "pycharm": {
     "name": "#%%\n"
    }
   }
  },
  {
   "cell_type": "markdown",
   "source": [
    "**Saving Tables to csv files**"
   ],
   "metadata": {
    "collapsed": false,
    "pycharm": {
     "name": "#%% md\n"
    }
   }
  },
  {
   "cell_type": "code",
   "execution_count": 79,
   "outputs": [],
   "source": [
    "data.to_csv(path_or_buf='lab2/Analysis Data/question_renamed.csv')\n",
    "newTable.to_csv(path_or_buf='lab2/Analysis Data/age_gender_worried_table.csv')"
   ],
   "metadata": {
    "collapsed": false,
    "pycharm": {
     "name": "#%%\n"
    }
   }
  }
 ],
 "metadata": {
  "kernelspec": {
   "display_name": "Python 3",
   "language": "python",
   "name": "python3"
  },
  "language_info": {
   "codemirror_mode": {
    "name": "ipython",
    "version": 2
   },
   "file_extension": ".py",
   "mimetype": "text/x-python",
   "name": "python",
   "nbconvert_exporter": "python",
   "pygments_lexer": "ipython2",
   "version": "2.7.6"
  }
 },
 "nbformat": 4,
 "nbformat_minor": 0
}